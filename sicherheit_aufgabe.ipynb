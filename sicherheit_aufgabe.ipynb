{
  "nbformat": 4,
  "nbformat_minor": 0,
  "metadata": {
    "colab": {
      "name": "sicherheit_aufgabe.ipynb",
      "provenance": [],
      "collapsed_sections": [],
      "mount_file_id": "1lBAGse3Juf4L7DaWfK6S_N7tH5Dog8H5",
      "authorship_tag": "ABX9TyMzS+yGqu9LaagoXK7aKyP6",
      "include_colab_link": true
    },
    "kernelspec": {
      "name": "python3",
      "display_name": "Python 3"
    }
  },
  "cells": [
    {
      "cell_type": "markdown",
      "metadata": {
        "id": "view-in-github",
        "colab_type": "text"
      },
      "source": [
        "<a href=\"https://colab.research.google.com/github/e-shawakri/SvS_SoSe21_Group_2a/blob/main/sicherheit_aufgabe.ipynb\" target=\"_parent\"><img src=\"https://colab.research.google.com/assets/colab-badge.svg\" alt=\"Open In Colab\"/></a>"
      ]
    },
    {
      "cell_type": "code",
      "metadata": {
        "colab": {
          "base_uri": "https://localhost:8080/",
          "height": 419
        },
        "id": "aujdt9ufJgDR",
        "outputId": "f091d07e-1e1b-4037-9bfa-37479c8a50e9"
      },
      "source": [
        "import pandas as pd\n",
        "csv_path = \"/content/drive/MyDrive/Sicherheit/Stego_high.csv\"\n",
        "df_no_stego = pd.read_csv(csv_path, header=None, usecols=[0,1,2], names=[\"reads\", \"date\", \"time\"])\n",
        "df_no_stego\n"
      ],
      "execution_count": 74,
      "outputs": [
        {
          "output_type": "execute_result",
          "data": {
            "text/html": [
              "<div>\n",
              "<style scoped>\n",
              "    .dataframe tbody tr th:only-of-type {\n",
              "        vertical-align: middle;\n",
              "    }\n",
              "\n",
              "    .dataframe tbody tr th {\n",
              "        vertical-align: top;\n",
              "    }\n",
              "\n",
              "    .dataframe thead th {\n",
              "        text-align: right;\n",
              "    }\n",
              "</style>\n",
              "<table border=\"1\" class=\"dataframe\">\n",
              "  <thead>\n",
              "    <tr style=\"text-align: right;\">\n",
              "      <th></th>\n",
              "      <th>reads</th>\n",
              "      <th>date</th>\n",
              "      <th>time</th>\n",
              "    </tr>\n",
              "  </thead>\n",
              "  <tbody>\n",
              "    <tr>\n",
              "      <th>0</th>\n",
              "      <td>68</td>\n",
              "      <td>Jul 24</td>\n",
              "      <td>2020 11:50:31.112006732 CEST</td>\n",
              "    </tr>\n",
              "    <tr>\n",
              "      <th>1</th>\n",
              "      <td>66</td>\n",
              "      <td>Jul 24</td>\n",
              "      <td>2020 11:50:31.115404313 CEST</td>\n",
              "    </tr>\n",
              "    <tr>\n",
              "      <th>2</th>\n",
              "      <td>68</td>\n",
              "      <td>Jul 24</td>\n",
              "      <td>2020 11:50:32.102894219 CEST</td>\n",
              "    </tr>\n",
              "    <tr>\n",
              "      <th>3</th>\n",
              "      <td>66</td>\n",
              "      <td>Jul 24</td>\n",
              "      <td>2020 11:50:32.106244578 CEST</td>\n",
              "    </tr>\n",
              "    <tr>\n",
              "      <th>4</th>\n",
              "      <td>68</td>\n",
              "      <td>Jul 24</td>\n",
              "      <td>2020 11:50:33.094366369 CEST</td>\n",
              "    </tr>\n",
              "    <tr>\n",
              "      <th>...</th>\n",
              "      <td>...</td>\n",
              "      <td>...</td>\n",
              "      <td>...</td>\n",
              "    </tr>\n",
              "    <tr>\n",
              "      <th>12265</th>\n",
              "      <td>66</td>\n",
              "      <td>Jul 24</td>\n",
              "      <td>2020 13:31:51.494449231 CEST</td>\n",
              "    </tr>\n",
              "    <tr>\n",
              "      <th>12266</th>\n",
              "      <td>68</td>\n",
              "      <td>Jul 24</td>\n",
              "      <td>2020 13:31:52.482695271 CEST</td>\n",
              "    </tr>\n",
              "    <tr>\n",
              "      <th>12267</th>\n",
              "      <td>66</td>\n",
              "      <td>Jul 24</td>\n",
              "      <td>2020 13:31:52.486545386 CEST</td>\n",
              "    </tr>\n",
              "    <tr>\n",
              "      <th>12268</th>\n",
              "      <td>68</td>\n",
              "      <td>Jul 24</td>\n",
              "      <td>2020 13:31:53.474433493 CEST</td>\n",
              "    </tr>\n",
              "    <tr>\n",
              "      <th>12269</th>\n",
              "      <td>66</td>\n",
              "      <td>Jul 24</td>\n",
              "      <td>2020 13:31:53.477654479 CEST</td>\n",
              "    </tr>\n",
              "  </tbody>\n",
              "</table>\n",
              "<p>12270 rows × 3 columns</p>\n",
              "</div>"
            ],
            "text/plain": [
              "       reads    date                           time\n",
              "0         68  Jul 24   2020 11:50:31.112006732 CEST\n",
              "1         66  Jul 24   2020 11:50:31.115404313 CEST\n",
              "2         68  Jul 24   2020 11:50:32.102894219 CEST\n",
              "3         66  Jul 24   2020 11:50:32.106244578 CEST\n",
              "4         68  Jul 24   2020 11:50:33.094366369 CEST\n",
              "...      ...     ...                            ...\n",
              "12265     66  Jul 24   2020 13:31:51.494449231 CEST\n",
              "12266     68  Jul 24   2020 13:31:52.482695271 CEST\n",
              "12267     66  Jul 24   2020 13:31:52.486545386 CEST\n",
              "12268     68  Jul 24   2020 13:31:53.474433493 CEST\n",
              "12269     66  Jul 24   2020 13:31:53.477654479 CEST\n",
              "\n",
              "[12270 rows x 3 columns]"
            ]
          },
          "metadata": {
            "tags": []
          },
          "execution_count": 74
        }
      ]
    },
    {
      "cell_type": "code",
      "metadata": {
        "colab": {
          "base_uri": "https://localhost:8080/",
          "height": 204
        },
        "id": "FV4ZzKZBKTZl",
        "outputId": "1687ef2d-f120-4ad6-cfe8-e5132bf7e0bc"
      },
      "source": [
        "# extract the ms from the timestamp and put it in another cloumn\n",
        "\n",
        "df_no_stego['time_ms'] = df_no_stego['time'].map(lambda x: x.split('.')[-1])\n",
        "df_no_stego['time_ms'] = df_no_stego['time_ms'].map(lambda x: x.split(' ')[-2])\n",
        "\n",
        "df_no_stego.head()\n"
      ],
      "execution_count": 122,
      "outputs": [
        {
          "output_type": "execute_result",
          "data": {
            "text/html": [
              "<div>\n",
              "<style scoped>\n",
              "    .dataframe tbody tr th:only-of-type {\n",
              "        vertical-align: middle;\n",
              "    }\n",
              "\n",
              "    .dataframe tbody tr th {\n",
              "        vertical-align: top;\n",
              "    }\n",
              "\n",
              "    .dataframe thead th {\n",
              "        text-align: right;\n",
              "    }\n",
              "</style>\n",
              "<table border=\"1\" class=\"dataframe\">\n",
              "  <thead>\n",
              "    <tr style=\"text-align: right;\">\n",
              "      <th></th>\n",
              "      <th>reads</th>\n",
              "      <th>date</th>\n",
              "      <th>time</th>\n",
              "      <th>time_ms</th>\n",
              "    </tr>\n",
              "  </thead>\n",
              "  <tbody>\n",
              "    <tr>\n",
              "      <th>0</th>\n",
              "      <td>68</td>\n",
              "      <td>Jul 24</td>\n",
              "      <td>2020 11:50:31.112006732 CEST</td>\n",
              "      <td>112006732</td>\n",
              "    </tr>\n",
              "    <tr>\n",
              "      <th>1</th>\n",
              "      <td>66</td>\n",
              "      <td>Jul 24</td>\n",
              "      <td>2020 11:50:31.115404313 CEST</td>\n",
              "      <td>115404313</td>\n",
              "    </tr>\n",
              "    <tr>\n",
              "      <th>2</th>\n",
              "      <td>68</td>\n",
              "      <td>Jul 24</td>\n",
              "      <td>2020 11:50:32.102894219 CEST</td>\n",
              "      <td>102894219</td>\n",
              "    </tr>\n",
              "    <tr>\n",
              "      <th>3</th>\n",
              "      <td>66</td>\n",
              "      <td>Jul 24</td>\n",
              "      <td>2020 11:50:32.106244578 CEST</td>\n",
              "      <td>106244578</td>\n",
              "    </tr>\n",
              "    <tr>\n",
              "      <th>4</th>\n",
              "      <td>68</td>\n",
              "      <td>Jul 24</td>\n",
              "      <td>2020 11:50:33.094366369 CEST</td>\n",
              "      <td>094366369</td>\n",
              "    </tr>\n",
              "  </tbody>\n",
              "</table>\n",
              "</div>"
            ],
            "text/plain": [
              "   reads    date                           time    time_ms\n",
              "0     68  Jul 24   2020 11:50:31.112006732 CEST  112006732\n",
              "1     66  Jul 24   2020 11:50:31.115404313 CEST  115404313\n",
              "2     68  Jul 24   2020 11:50:32.102894219 CEST  102894219\n",
              "3     66  Jul 24   2020 11:50:32.106244578 CEST  106244578\n",
              "4     68  Jul 24   2020 11:50:33.094366369 CEST  094366369"
            ]
          },
          "metadata": {
            "tags": []
          },
          "execution_count": 122
        }
      ]
    },
    {
      "cell_type": "markdown",
      "metadata": {
        "id": "eqawtO3qe6sd"
      },
      "source": [
        "# **Ploting the total number of 66 and 68 to see any anomlies on the data**"
      ]
    },
    {
      "cell_type": "code",
      "metadata": {
        "colab": {
          "base_uri": "https://localhost:8080/",
          "height": 337
        },
        "id": "t_l_zJv_T34s",
        "outputId": "39fc8816-8898-4c57-fca4-3906af6649b7"
      },
      "source": [
        "import matplotlib.pyplot as plt\n",
        "%matplotlib inline\n",
        "\n",
        "ax = pd.value_counts(df_no_stego['reads']).plot(kind = 'bar', \n",
        "                                                figsize = (4, 5), rot = 0, width = 0.9)\n",
        "ax.set_title('Count of each uniqe read', size = 14)\n",
        "ax.spines['top'].set_visible(False)\n",
        "ax.spines['left'].set_visible(False)\n",
        "ax.spines['right'].set_visible(False)\n",
        "ax.axes.get_yaxis().set_visible(False)\n",
        "\n",
        "\n",
        "for patch in ax.patches:\n",
        "  width, height = patch.get_width(), patch.get_height()\n",
        "  x, y = patch.get_x(), patch.get_y()\n",
        "  ax.annotate(height, (x, y + height + 80), size = 10)\n",
        "plt.show()"
      ],
      "execution_count": 76,
      "outputs": [
        {
          "output_type": "display_data",
          "data": {
            "image/png": "[encoded data removed]",
            "text/plain": [
              "<Figure size 288x360 with 1 Axes>"
            ]
          },
          "metadata": {
            "tags": [],
            "needs_background": "light"
          }
        }
      ]
    },
    {
      "cell_type": "code",
      "metadata": {
        "colab": {
          "base_uri": "https://localhost:8080/",
          "height": 204
        },
        "id": "3WxxEUuN9HiB",
        "outputId": "f19f104f-0fcd-461d-96fa-237793320386"
      },
      "source": [
        "# slpit the data between the 66 and the 68 readings\n",
        "\n",
        "\n",
        "import numpy as np\n",
        "\n",
        "df_no_stego_66 = df_no_stego.loc[df_no_stego['reads'] == 66]\n",
        "df_no_stego_68 = df_no_stego.loc[df_no_stego['reads'] == 68]\n",
        "\n",
        "# reindexing the splitted data for ease of use\n",
        "\n",
        "df_no_stego_66.index = np.arange(1, len(df_no_stego_66) + 1)\n",
        "df_no_stego_68.index = np.arange(1, len(df_no_stego_68) + 1)\n",
        "\n",
        "df_no_stego_66.head()\n"
      ],
      "execution_count": 104,
      "outputs": [
        {
          "output_type": "execute_result",
          "data": {
            "text/html": [
              "<div>\n",
              "<style scoped>\n",
              "    .dataframe tbody tr th:only-of-type {\n",
              "        vertical-align: middle;\n",
              "    }\n",
              "\n",
              "    .dataframe tbody tr th {\n",
              "        vertical-align: top;\n",
              "    }\n",
              "\n",
              "    .dataframe thead th {\n",
              "        text-align: right;\n",
              "    }\n",
              "</style>\n",
              "<table border=\"1\" class=\"dataframe\">\n",
              "  <thead>\n",
              "    <tr style=\"text-align: right;\">\n",
              "      <th></th>\n",
              "      <th>reads</th>\n",
              "      <th>date</th>\n",
              "      <th>time</th>\n",
              "      <th>time_ms</th>\n",
              "    </tr>\n",
              "  </thead>\n",
              "  <tbody>\n",
              "    <tr>\n",
              "      <th>1</th>\n",
              "      <td>66</td>\n",
              "      <td>Jul 24</td>\n",
              "      <td>2020 11:50:31.115404313 CEST</td>\n",
              "      <td>115404313</td>\n",
              "    </tr>\n",
              "    <tr>\n",
              "      <th>2</th>\n",
              "      <td>66</td>\n",
              "      <td>Jul 24</td>\n",
              "      <td>2020 11:50:32.106244578 CEST</td>\n",
              "      <td>106244578</td>\n",
              "    </tr>\n",
              "    <tr>\n",
              "      <th>3</th>\n",
              "      <td>66</td>\n",
              "      <td>Jul 24</td>\n",
              "      <td>2020 11:50:33.097954528 CEST</td>\n",
              "      <td>097954528</td>\n",
              "    </tr>\n",
              "    <tr>\n",
              "      <th>4</th>\n",
              "      <td>66</td>\n",
              "      <td>Jul 24</td>\n",
              "      <td>2020 11:50:34.089994890 CEST</td>\n",
              "      <td>089994890</td>\n",
              "    </tr>\n",
              "    <tr>\n",
              "      <th>5</th>\n",
              "      <td>66</td>\n",
              "      <td>Jul 24</td>\n",
              "      <td>2020 11:50:35.079991792 CEST</td>\n",
              "      <td>079991792</td>\n",
              "    </tr>\n",
              "  </tbody>\n",
              "</table>\n",
              "</div>"
            ],
            "text/plain": [
              "   reads    date                           time    time_ms\n",
              "1     66  Jul 24   2020 11:50:31.115404313 CEST  115404313\n",
              "2     66  Jul 24   2020 11:50:32.106244578 CEST  106244578\n",
              "3     66  Jul 24   2020 11:50:33.097954528 CEST  097954528\n",
              "4     66  Jul 24   2020 11:50:34.089994890 CEST  089994890\n",
              "5     66  Jul 24   2020 11:50:35.079991792 CEST  079991792"
            ]
          },
          "metadata": {
            "tags": []
          },
          "execution_count": 104
        }
      ]
    },
    {
      "cell_type": "code",
      "metadata": {
        "id": "10u4Dt6L9Qo8"
      },
      "source": [
        "arr_anom_66 = []\n",
        "annomly_str_66 = \"\"\n",
        "\n",
        "for i, row in df_no_stego_66[\"time_ms\"].iteritems():\n",
        "\n",
        "  if len(annomly_str_66) == 0:\n",
        "    annomly_str_66 = row[3]\n",
        "   \n",
        "  elif len(annomly_str_66) == 1:\n",
        "    annomly_str_66 = annomly_str_66 + row[4]\n",
        "\n",
        "  elif len(annomly_str_66) == 2:\n",
        "    annomly_str_66 = annomly_str_66 + row[5]\n",
        "\n",
        "  if i % 3 == 0:\n",
        "    arr_anom_66.append(annomly_str_66)\n",
        "    annomly_str_66 = \"\"\n"
      ],
      "execution_count": 123,
      "outputs": []
    },
    {
      "cell_type": "markdown",
      "metadata": {
        "id": "YhVfXmOdhYgj"
      },
      "source": [
        "# Plotting our finding to check any data than tha **444** and **999**"
      ]
    },
    {
      "cell_type": "code",
      "metadata": {
        "colab": {
          "base_uri": "https://localhost:8080/",
          "height": 337
        },
        "id": "a21d32WtfRQY",
        "outputId": "d7e1850e-b805-41f1-fcca-debf334c597e"
      },
      "source": [
        "# creating another Pandas dataframe with our finding \n",
        "\n",
        "df_anomalies = pd.DataFrame(arr_anom_66, columns=[\"anomalies\"])\n",
        "\n",
        "# plotting our finding \n",
        "\n",
        "ax = pd.value_counts(df_anomalies['anomalies']).plot(kind = 'bar', \n",
        "                                                figsize = (4, 5), rot = 0, width = 0.9)\n",
        "ax.set_title('Anomalies', size = 14)\n",
        "ax.spines['top'].set_visible(False)\n",
        "ax.spines['left'].set_visible(False)\n",
        "ax.spines['right'].set_visible(False)\n",
        "ax.axes.get_yaxis().set_visible(False)\n",
        "\n",
        "\n",
        "for patch in ax.patches:\n",
        "  width, height = patch.get_width(), patch.get_height()\n",
        "  x, y = patch.get_x(), patch.get_y()\n",
        "  ax.annotate(height, (x, y + height + 80), size = 10)\n",
        "plt.show()\n"
      ],
      "execution_count": 121,
      "outputs": [
        {
          "output_type": "display_data",
          "data": {
            "image/png": "[encoded data removed]",
            "text/plain": [
              "<Figure size 288x360 with 1 Axes>"
            ]
          },
          "metadata": {
            "tags": [],
            "needs_background": "light"
          }
        }
      ]
    }
  ]
}